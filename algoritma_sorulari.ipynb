{
 "cells": [
  {
   "cell_type": "code",
   "execution_count": null,
   "metadata": {},
   "outputs": [],
   "source": [
    "num1 = int(input(\"Birinci sayıyı girin: \"))\n",
    "num2 = int(input(\"İkinci sayıyı girin: \"))\n",
    "total = num1 + num2\n",
    "\n",
    "print(f\"Toplam: {total}\")\n"
   ]
  },
  {
   "cell_type": "code",
   "execution_count": null,
   "metadata": {},
   "outputs": [],
   "source": [
    "num = int(input(\"Bir sayı girin: \"))\n",
    "if num > 0:\n",
    "    print(\"Pozitif\")\n",
    "elif num < 0:\n",
    "    print(\"Negatif\")\n",
    "else:\n",
    "    print(\"Sıfır\")\n"
   ]
  },
  {
   "cell_type": "code",
   "execution_count": null,
   "metadata": {},
   "outputs": [],
   "source": [
    "num1 = int(input(\"Birinci sayıyı girin: \"))\n",
    "num2 = int(input(\"İkinci sayıyı girin: \"))\n",
    "num3 = int(input(\"Üçüncü sayıyı girin: \"))\n",
    "largest = max(num1, num2, num3)\n",
    "\n",
    "print(f\"En büyük sayı: {largest}\")\n"
   ]
  },
  {
   "cell_type": "code",
   "execution_count": null,
   "metadata": {},
   "outputs": [],
   "source": [
    "num = int(input(\"Bir sayı girin: \"))\n",
    "if num % 2 == 0:\n",
    "    print(\"Çift sayı\")\n",
    "else:\n",
    "    print(\"Tek sayı\")\n"
   ]
  },
  {
   "cell_type": "code",
   "execution_count": null,
   "metadata": {},
   "outputs": [],
   "source": [
    "day_num = int(input(\"Haftanın kaçıncı günü (1-7)?: \"))\n",
    "match day_num:\n",
    "    case 1:\n",
    "        print(\"Pazartesi\")\n",
    "    case 2:\n",
    "        print(\"Salı\")\n",
    "    case 3:\n",
    "        print(\"Çarşamba\")\n",
    "    case 4:\n",
    "        print(\"Perşembe\")\n",
    "    case 5:\n",
    "        print(\"Cuma\")\n",
    "    case 6:\n",
    "        print(\"Cumartesi\")\n",
    "    case 7:\n",
    "        print(\"Pazar\")\n",
    "    case _:\n",
    "        print(\"Geçersiz gün!\")\n"
   ]
  },
  {
   "cell_type": "code",
   "execution_count": null,
   "metadata": {},
   "outputs": [],
   "source": [
    "num1 = float(input(\"Birinci sayıyı girin: \"))\n",
    "num2 = float(input(\"İkinci sayıyı girin: \"))\n",
    "operation = input(\"İşlem seçin (+, -, *, /): \")\n",
    "match operation:\n",
    "    case \"+\":\n",
    "        print(f\"Sonuç: {num1 + num2}\")\n",
    "    case \"-\":\n",
    "        print(f\"Sonuç: {num1 - num2}\")\n",
    "    case \"*\":\n",
    "        print(f\"Sonuç: {num1 * num2}\")\n",
    "    case \"/\":\n",
    "        if num2 != 0:\n",
    "            print(f\"Sonuç: {num1 / num2}\")\n",
    "        else:\n",
    "            print(\"Hata: Sıfıra bölme yapılamaz!\")\n",
    "    case _:\n",
    "        print(\"Geçersiz işlem!\")\n"
   ]
  },
  {
   "cell_type": "code",
   "execution_count": null,
   "metadata": {},
   "outputs": [],
   "source": [
    "N = int(input(\"Bir sayı girin: \"))\n",
    "total = sum(range(1, N + 1))\n",
    "\n",
    "print(f\"1'den {N}'e kadar olan sayıların toplamı: {total}\")\n"
   ]
  },
  {
   "cell_type": "code",
   "execution_count": null,
   "metadata": {},
   "outputs": [],
   "source": [
    "num = int(input(\"Bir sayı girin: \"))\n",
    "for i in range(1, 11):\n",
    "    print(f\"{num} x {i} = {num * i}\")\n"
   ]
  },
  {
   "cell_type": "code",
   "execution_count": null,
   "metadata": {},
   "outputs": [],
   "source": [
    "numbers = []\n",
    "\n",
    "for i in range(5):\n",
    "    num = int(input(f\"{i+1}. sayıyı girin: \"))\n",
    "    numbers.append(num)\n",
    "average = sum(numbers) / len(numbers)\n",
    "\n",
    "print(f\"Girilen sayıların ortalaması: {average}\")\n"
   ]
  },
  {
   "cell_type": "code",
   "execution_count": null,
   "metadata": {},
   "outputs": [],
   "source": [
    "num = int(input(\"Bir sayı girin: \"))\n",
    "\n",
    "if num < 2:\n",
    "    print(\"Asal değil\")\n",
    "else:\n",
    "    is_prime = True\n",
    "    for i in range(2, int(num**0.5) + 1):\n",
    "        if num % i == 0:\n",
    "            is_prime = False\n",
    "            break\n",
    "\n",
    "    if is_prime:\n",
    "        print(\"Asal sayı\")\n",
    "    else:\n",
    "        print(\"Asal değil\")\n"
   ]
  },
  {
   "cell_type": "code",
   "execution_count": null,
   "metadata": {},
   "outputs": [],
   "source": [
    "num = int(input(\"Bir sayı girin: \"))\n",
    "factorial = 1\n",
    "i = 1\n",
    "\n",
    "while i <= num:\n",
    "    factorial *= i\n",
    "    i += 1\n",
    "\n",
    "print(f\"{num}! = {factorial}\")\n"
   ]
  },
  {
   "cell_type": "code",
   "execution_count": null,
   "metadata": {},
   "outputs": [],
   "source": [
    "import random\n",
    "\n",
    "target = random.randint(1, 100)\n",
    "guess = 0\n",
    "\n",
    "while guess != target:\n",
    "    guess = int(input(\"Tahmininizi girin: \"))\n",
    "    \n",
    "    if guess < target:\n",
    "        print(\"Daha büyük bir sayı girin!\")\n",
    "    elif guess > target:\n",
    "        print(\"Daha küçük bir sayı girin!\")\n",
    "\n",
    "print(\"Tebrikler! Doğru tahmin ettiniz. 🎉\")\n"
   ]
  },
  {
   "cell_type": "code",
   "execution_count": null,
   "metadata": {},
   "outputs": [],
   "source": [
    "N = int(input(\"Kaç Fibonacci terimi istiyorsunuz?: \"))\n",
    "fibonacci = [0, 1]\n",
    "\n",
    "for i in range(2, N):\n",
    "    fibonacci.append(fibonacci[-1] + fibonacci[-2])\n",
    "\n",
    "print(f\"İlk {N} Fibonacci sayısı: {fibonacci[:N]}\")\n"
   ]
  },
  {
   "cell_type": "code",
   "execution_count": null,
   "metadata": {},
   "outputs": [],
   "source": [
    "num = int(input(\"Bir sayı girin: \"))\n",
    "reverse = 0\n",
    "\n",
    "while num > 0:\n",
    "    digit = num % 10\n",
    "    reverse = reverse * 10 + digit\n",
    "    num //= 10\n",
    "\n",
    "print(f\"Ters çevrilmiş hali: {reverse}\")\n"
   ]
  },
  {
   "cell_type": "code",
   "execution_count": null,
   "metadata": {},
   "outputs": [],
   "source": [
    "num = int(input(\"Bir sayı girin: \"))\n",
    "sum_of_digits = sum(int(digit) ** len(str(num)) for digit in str(num))\n",
    "\n",
    "if num == sum_of_digits:\n",
    "    print(\"Armstrong sayısı\")\n",
    "else:\n",
    "    print(\"Armstrong sayısı değil\")\n"
   ]
  },
  {
   "cell_type": "code",
   "execution_count": null,
   "metadata": {},
   "outputs": [],
   "source": [
    "total = sum(num for num in range(1, 101) if num % 2 == 0)\n",
    "print(f\"1-100 arası çift sayıların toplamı: {total}\")\n"
   ]
  },
  {
   "cell_type": "code",
   "execution_count": null,
   "metadata": {},
   "outputs": [],
   "source": [
    "product = 1\n",
    "\n",
    "for num in range(1, 11, 2):\n",
    "    product *= num\n",
    "\n",
    "print(f\"1-10 arası tek sayıların çarpımı: {product}\")\n"
   ]
  },
  {
   "cell_type": "code",
   "execution_count": null,
   "metadata": {},
   "outputs": [],
   "source": [
    "correct_password = \"python123\"\n",
    "password = input(\"Şifreyi girin: \")\n",
    "\n",
    "while password != correct_password:\n",
    "    print(\"Hatalı şifre! Tekrar deneyin.\")\n",
    "    password = input(\"Şifreyi girin: \")\n",
    "\n",
    "print(\"Giriş başarılı! ✅\")\n"
   ]
  },
  {
   "cell_type": "code",
   "execution_count": null,
   "metadata": {},
   "outputs": [],
   "source": [
    "correct_password = \"python123\"\n",
    "\n",
    "while True:\n",
    "    password = input(\"Şifreyi girin: \")\n",
    "    if password == correct_password:\n",
    "        print(\"Giriş başarılı! ✅\")\n",
    "        break\n",
    "    else:\n",
    "        print(\"Hatalı şifre! Tekrar deneyin.\")\n"
   ]
  },
  {
   "cell_type": "code",
   "execution_count": null,
   "metadata": {},
   "outputs": [],
   "source": [
    "num = int(input(\"Bir sayı girin: \"))\n",
    "digits = len(str(abs(num)))  # Sayıyı pozitif yaparak basamak sayısını bul\n",
    "print(f\"Girilen sayı {digits} basamaklıdır.\")\n"
   ]
  },
  {
   "cell_type": "code",
   "execution_count": null,
   "metadata": {},
   "outputs": [],
   "source": [
    "num = int(input(\"Bir sayı girin: \"))\n",
    "total = sum(int(digit) for digit in str(abs(num)))  # Tüm rakamları topla\n",
    "print(f\"Rakamların toplamı: {total}\")\n"
   ]
  },
  {
   "cell_type": "code",
   "execution_count": null,
   "metadata": {},
   "outputs": [],
   "source": [
    "num = input(\"Bir sayı girin: \")\n",
    "reverse_num = num[::-1]  # String olarak ters çevir\n",
    "print(f\"Ters çevrilmiş hali: {reverse_num}\")\n"
   ]
  },
  {
   "cell_type": "code",
   "execution_count": null,
   "metadata": {},
   "outputs": [],
   "source": [
    "num = input(\"Bir sayı girin: \")\n",
    "even_count = sum(1 for digit in num if int(digit) % 2 == 0)\n",
    "odd_count = len(num) - even_count\n",
    "\n",
    "print(f\"Çift rakam sayısı: {even_count}\")\n",
    "print(f\"Tek rakam sayısı: {odd_count}\")\n"
   ]
  },
  {
   "cell_type": "code",
   "execution_count": null,
   "metadata": {},
   "outputs": [],
   "source": [
    "N = int(input(\"Bir sayı girin: \"))\n",
    "print(f\"1'den {N}'e kadar tek sayılar:\")\n",
    "for i in range(1, N + 1, 2):\n",
    "    print(i, end=\" \")\n"
   ]
  },
  {
   "cell_type": "code",
   "execution_count": null,
   "metadata": {},
   "outputs": [],
   "source": [
    "N = int(input(\"Bir sayı girin: \"))\n",
    "print(f\"1'den {N}'e kadar çift sayılar:\")\n",
    "for i in range(2, N + 1, 2):\n",
    "    print(i, end=\" \")\n"
   ]
  },
  {
   "cell_type": "code",
   "execution_count": null,
   "metadata": {},
   "outputs": [],
   "source": [
    "for i in range(1, 11):\n",
    "    for j in range(1, 11):\n",
    "        print(f\"{i} x {j} = {i * j}\")\n",
    "    print(\"-\" * 15)  # Ayrım çizgisi\n"
   ]
  },
  {
   "cell_type": "code",
   "execution_count": null,
   "metadata": {},
   "outputs": [],
   "source": [
    "for num in range(2, 101):\n",
    "    is_prime = all(num % i != 0 for i in range(2, int(num**0.5) + 1))\n",
    "    if is_prime:\n",
    "        print(num, end=\" \")\n"
   ]
  },
  {
   "cell_type": "code",
   "execution_count": null,
   "metadata": {},
   "outputs": [],
   "source": [
    "num = int(input(\"Bir sayı girin: \"))\n",
    "if num % 5 == 0:\n",
    "    print(\"Bu sayı 5'e tam bölünür.\")\n",
    "else:\n",
    "    print(\"Bu sayı 5'e tam bölünemez.\")\n"
   ]
  },
  {
   "cell_type": "code",
   "execution_count": null,
   "metadata": {},
   "outputs": [],
   "source": [
    "for num in range(1, 51):\n",
    "    if num % 3 == 0 and num % 5 == 0:\n",
    "        print(num, end=\" \")\n"
   ]
  },
  {
   "cell_type": "code",
   "execution_count": null,
   "metadata": {},
   "outputs": [],
   "source": [
    "import math\n",
    "\n",
    "num = float(input(\"Bir sayı girin: \"))\n",
    "sqrt = math.sqrt(num)\n",
    "print(f\"{num} sayısının karekökü: {sqrt}\")\n"
   ]
  },
  {
   "cell_type": "code",
   "execution_count": null,
   "metadata": {},
   "outputs": [],
   "source": [
    "base = float(input(\"Taban değerini girin: \"))\n",
    "exponent = int(input(\"Üs değerini girin: \"))\n",
    "\n",
    "result = base ** exponent  # Alternatif: pow(base, exponent)\n",
    "\n",
    "print(f\"{base} ^ {exponent} = {result}\")\n"
   ]
  },
  {
   "cell_type": "code",
   "execution_count": null,
   "metadata": {},
   "outputs": [],
   "source": [
    "num = int(input(\"Bir sayı girin: \"))\n",
    "print(f\"{num} sayısının çarpanları:\")\n",
    "\n",
    "for i in range(1, num + 1):\n",
    "    if num % i == 0:\n",
    "        print(i, end=\" \")\n"
   ]
  },
  {
   "cell_type": "code",
   "execution_count": null,
   "metadata": {},
   "outputs": [],
   "source": [
    "num = input(\"Bir sayı girin: \")\n",
    "\n",
    "if num == num[::-1]:  # Sayıyı ters çevir ve kontrol et\n",
    "    print(\"Bu bir palindrom sayıdır.\")\n",
    "else:\n",
    "    print(\"Bu bir palindrom sayı değildir.\")\n"
   ]
  },
  {
   "cell_type": "code",
   "execution_count": null,
   "metadata": {},
   "outputs": [],
   "source": [
    "import random\n",
    "\n",
    "random_num = random.randint(1, 100)\n",
    "print(f\"Rastgele üretilen sayı: {random_num}\")\n"
   ]
  },
  {
   "cell_type": "code",
   "execution_count": null,
   "metadata": {},
   "outputs": [],
   "source": [
    "num = float(input(\"Bir sayı girin: \"))\n",
    "print(f\"{num} sayısının mutlak değeri: {abs(num)}\")\n"
   ]
  },
  {
   "cell_type": "code",
   "execution_count": null,
   "metadata": {},
   "outputs": [],
   "source": [
    "import math\n",
    "\n",
    "num = float(input(\"Bir sayı girin: \"))\n",
    "\n",
    "if num > 0:\n",
    "    print(f\"{num} sayısının doğal logaritması: {math.log(num)}\")\n",
    "else:\n",
    "    print(\"Logaritma yalnızca pozitif sayılar için hesaplanabilir!\")\n"
   ]
  },
  {
   "cell_type": "code",
   "execution_count": null,
   "metadata": {},
   "outputs": [],
   "source": [
    "count = int(input(\"Kaç adet sayı gireceksiniz?: \"))\n",
    "numbers = []\n",
    "\n",
    "for i in range(count):\n",
    "    num = float(input(f\"{i+1}. sayıyı girin: \"))\n",
    "    numbers.append(num)\n",
    "\n",
    "average = sum(numbers) / count\n",
    "\n",
    "print(f\"Girilen sayıların ortalaması: {average}\")\n"
   ]
  },
  {
   "cell_type": "code",
   "execution_count": null,
   "metadata": {},
   "outputs": [],
   "source": [
    "def factorial(n):\n",
    "    if n == 0 or n == 1:\n",
    "        return 1\n",
    "    return n * factorial(n - 1)\n",
    "\n",
    "num = int(input(\"Bir sayı girin: \"))\n",
    "print(f\"{num}! = {factorial(num)}\")\n"
   ]
  },
  {
   "cell_type": "code",
   "execution_count": null,
   "metadata": {},
   "outputs": [],
   "source": [
    "num = int(input(\"Bir sayı girin: \"))\n",
    "print(f\"{num} sayısının tam bölenleri:\")\n",
    "\n",
    "for i in range(1, num + 1):\n",
    "    if num % i == 0:\n",
    "        print(i, end=\" \")\n"
   ]
  },
  {
   "cell_type": "code",
   "execution_count": null,
   "metadata": {},
   "outputs": [],
   "source": [
    "import math\n",
    "\n",
    "r = float(input(\"Dairenin yarıçapını girin: \"))\n",
    "\n",
    "area = math.pi * r ** 2\n",
    "circumference = 2 * math.pi * r\n",
    "\n",
    "print(f\"Dairenin Alanı: {area}\")\n",
    "print(f\"Dairenin Çevresi: {circumference}\")\n"
   ]
  }
 ],
 "metadata": {
  "language_info": {
   "name": "python"
  }
 },
 "nbformat": 4,
 "nbformat_minor": 2
}
